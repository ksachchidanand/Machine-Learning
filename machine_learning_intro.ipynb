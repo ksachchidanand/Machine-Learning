{
  "nbformat": 4,
  "nbformat_minor": 0,
  "metadata": {
    "colab": {
      "name": "machine-learning-intro.ipynb",
      "provenance": [],
      "authorship_tag": "ABX9TyOGLl/4HWDrKDdTYOu+NJrh",
      "include_colab_link": true
    },
    "kernelspec": {
      "name": "python3",
      "display_name": "Python 3"
    }
  },
  "cells": [
    {
      "cell_type": "markdown",
      "metadata": {
        "id": "view-in-github",
        "colab_type": "text"
      },
      "source": [
        "<a href=\"https://colab.research.google.com/github/rename-z/Machine-Learning/blob/master/machine_learning_intro.ipynb\" target=\"_parent\"><img src=\"https://colab.research.google.com/assets/colab-badge.svg\" alt=\"Open In Colab\"/></a>"
      ]
    },
    {
      "cell_type": "markdown",
      "metadata": {
        "id": "SN2ZcmCtTvKm",
        "colab_type": "text"
      },
      "source": [
        "# Introduction to Machine Learning\n",
        "\n",
        "<img src=\"https://i.imgur.com/oJEQe7k.png\" width=\"480\" />\n",
        "\n",
        "<div style=\"text-align:center;\">\n",
        "    <a href=\"https://www.manning.com/books/deep-learning-with-python\">Image Source</a>\n",
        "</div>"
      ]
    },
    {
      "cell_type": "markdown",
      "metadata": {
        "id": "0gJkxVSoTx7o",
        "colab_type": "text"
      },
      "source": [
        "# Linear Regression\n",
        "\n",
        "#### Linear Regression Data\n",
        "\n",
        "<img src=\"https://i.imgur.com/mtkR2lB.png\" width=\"540\" >\n",
        "\n",
        "#### Linear Regression Visualization\n",
        "\n",
        "<img src=\"https://i.imgur.com/mtkR2lB.png\" width=\"480\">\n",
        "\n",
        "\n",
        "#### Linear Regression model\n",
        "\n",
        "$$\n",
        "\\hspace{2.5cm} X \\hspace{1.1cm} \\times \\hspace{1.2cm} W^T \\hspace{1.2cm}  + \\hspace{1cm} b \\hspace{2cm}\n",
        "$$\n",
        "\n",
        "$$\n",
        "\\left[ \\begin{array}{cc}\n",
        "73 & 67 & 43 \\\\\n",
        "91 & 88 & 64 \\\\\n",
        "\\vdots & \\vdots & \\vdots \\\\\n",
        "69 & 96 & 70\n",
        "\\end{array} \\right]\n",
        "%\n",
        "\\times\n",
        "%\n",
        "\\left[ \\begin{array}{cc}\n",
        "w_{11} & w_{21} \\\\\n",
        "w_{12} & w_{22} \\\\\n",
        "w_{13} & w_{23}\n",
        "\\end{array} \\right]\n",
        "%\n",
        "+\n",
        "%\n",
        "\\left[ \\begin{array}{cc}\n",
        "b_{1} & b_{2} \\\\\n",
        "b_{1} & b_{2} \\\\\n",
        "\\vdots & \\vdots \\\\\n",
        "b_{1} & b_{2} \\\\\n",
        "\\end{array} \\right]\n",
        "$$"
      ]
    },
    {
      "cell_type": "markdown",
      "metadata": {
        "id": "6xKAWDBXUB0k",
        "colab_type": "text"
      },
      "source": [
        "# Feedfoward Neural Network\n",
        "\n",
        "![ffnn](https://upload.wikimedia.org/wikipedia/commons/thumb/0/00/Multi-Layer_Neural_Network-Vector-Blank.svg/400px-Multi-Layer_Neural_Network-Vector-Blank.svg.png)\n",
        "\n",
        "Conceptually, you think of feedforward neural networks as two or more linear regression models stacked on top of one another with a non-linear activation function applied between them.\n",
        "\n",
        "<img src=\"https://cdn-images-1.medium.com/max/1600/1*XxxiA0jJvPrHEJHD4z893g.png\" width=\"640\">\n",
        "\n",
        "To use a feedforward neural network instead of linear regression, we can extend the `nn.Module` class from PyTorch."
      ]
    }
  ]
}